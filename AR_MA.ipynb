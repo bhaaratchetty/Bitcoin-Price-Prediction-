{
 "cells": [
  {
   "cell_type": "code",
   "execution_count": 22,
   "metadata": {},
   "outputs": [],
   "source": [
    "import pandas as pd \n",
    "import numpy as np \n",
    "import matplotlib.pyplot as plt\n",
    "from datetime import datetime\n",
    "import math\n",
    "from sklearn.metrics import mean_squared_error\n",
    "from itertools import product\n",
    "import seaborn; seaborn.set()\n",
    "%matplotlib inline\n"
   ]
  },
  {
   "cell_type": "code",
   "execution_count": 23,
   "metadata": {},
   "outputs": [
    {
     "data": {
      "text/html": [
       "<div>\n",
       "<style scoped>\n",
       "    .dataframe tbody tr th:only-of-type {\n",
       "        vertical-align: middle;\n",
       "    }\n",
       "\n",
       "    .dataframe tbody tr th {\n",
       "        vertical-align: top;\n",
       "    }\n",
       "\n",
       "    .dataframe thead th {\n",
       "        text-align: right;\n",
       "    }\n",
       "</style>\n",
       "<table border=\"1\" class=\"dataframe\">\n",
       "  <thead>\n",
       "    <tr style=\"text-align: right;\">\n",
       "      <th></th>\n",
       "      <th>Timestamp</th>\n",
       "      <th>Open</th>\n",
       "      <th>High</th>\n",
       "      <th>Low</th>\n",
       "      <th>Close</th>\n",
       "      <th>Volume_(BTC)</th>\n",
       "      <th>Volume_(Currency)</th>\n",
       "      <th>Weighted_Price</th>\n",
       "    </tr>\n",
       "  </thead>\n",
       "  <tbody>\n",
       "    <tr>\n",
       "      <th>3161052</th>\n",
       "      <td>1515369360</td>\n",
       "      <td>16167.98</td>\n",
       "      <td>16179.65</td>\n",
       "      <td>16154.59</td>\n",
       "      <td>16154.60</td>\n",
       "      <td>2.887541</td>\n",
       "      <td>46660.414604</td>\n",
       "      <td>16159.221330</td>\n",
       "    </tr>\n",
       "    <tr>\n",
       "      <th>3161053</th>\n",
       "      <td>1515369420</td>\n",
       "      <td>16178.07</td>\n",
       "      <td>16178.07</td>\n",
       "      <td>16142.13</td>\n",
       "      <td>16176.43</td>\n",
       "      <td>1.014694</td>\n",
       "      <td>16402.389804</td>\n",
       "      <td>16164.858364</td>\n",
       "    </tr>\n",
       "    <tr>\n",
       "      <th>3161054</th>\n",
       "      <td>1515369480</td>\n",
       "      <td>16131.19</td>\n",
       "      <td>16176.10</td>\n",
       "      <td>16114.30</td>\n",
       "      <td>16114.30</td>\n",
       "      <td>16.897225</td>\n",
       "      <td>272434.236630</td>\n",
       "      <td>16123.016402</td>\n",
       "    </tr>\n",
       "    <tr>\n",
       "      <th>3161055</th>\n",
       "      <td>1515369540</td>\n",
       "      <td>16169.82</td>\n",
       "      <td>16189.43</td>\n",
       "      <td>16114.49</td>\n",
       "      <td>16124.02</td>\n",
       "      <td>6.384757</td>\n",
       "      <td>103222.040090</td>\n",
       "      <td>16166.949978</td>\n",
       "    </tr>\n",
       "    <tr>\n",
       "      <th>3161056</th>\n",
       "      <td>1515369600</td>\n",
       "      <td>16173.98</td>\n",
       "      <td>16176.96</td>\n",
       "      <td>16102.05</td>\n",
       "      <td>16166.78</td>\n",
       "      <td>25.633791</td>\n",
       "      <td>413278.394640</td>\n",
       "      <td>16122.406640</td>\n",
       "    </tr>\n",
       "  </tbody>\n",
       "</table>\n",
       "</div>"
      ],
      "text/plain": [
       "          Timestamp      Open      High       Low     Close  Volume_(BTC)  \\\n",
       "3161052  1515369360  16167.98  16179.65  16154.59  16154.60      2.887541   \n",
       "3161053  1515369420  16178.07  16178.07  16142.13  16176.43      1.014694   \n",
       "3161054  1515369480  16131.19  16176.10  16114.30  16114.30     16.897225   \n",
       "3161055  1515369540  16169.82  16189.43  16114.49  16124.02      6.384757   \n",
       "3161056  1515369600  16173.98  16176.96  16102.05  16166.78     25.633791   \n",
       "\n",
       "         Volume_(Currency)  Weighted_Price  \n",
       "3161052       46660.414604    16159.221330  \n",
       "3161053       16402.389804    16164.858364  \n",
       "3161054      272434.236630    16123.016402  \n",
       "3161055      103222.040090    16166.949978  \n",
       "3161056      413278.394640    16122.406640  "
      ]
     },
     "execution_count": 23,
     "metadata": {},
     "output_type": "execute_result"
    }
   ],
   "source": [
    "df = pd.read_csv('C:/Users/User/Desktop/bitstampUSD_1-min_data_2012-01-01_to_2018-01-08.csv')\n",
    "df.tail()"
   ]
  },
  {
   "cell_type": "code",
   "execution_count": 24,
   "metadata": {},
   "outputs": [],
   "source": [
    "df = pd.read_csv('C:/Users/User/Desktop/bitstampUSD_1-min_data_2012-01-01_to_2018-01-08.csv')\n",
    "# 2017 jan\n",
    "# 2017 oct - 8th jan\n",
    "train=df[2490000:3017056] #from 01-10-2016 - 30-09-17\n",
    "test=df[3017057:] # 01-10-2017 - 08-01-2018\n",
    "df.Timestamp = pd.to_datetime(df.Timestamp, unit='s')\n",
    "df.index = df.Timestamp\n",
    "df = df.resample('D').mean() # aggregating on daily basis\n",
    "  \n",
    "#df = df.resample('M').mean()\n",
    "train.Timestamp = pd.to_datetime(train.Timestamp,unit='s') \n",
    "train.index = train.Timestamp # set timestamp as the index\n",
    "train = train.resample('D').mean() \n",
    "test.Timestamp = pd.to_datetime(test.Timestamp,unit='s') \n",
    "test.index = test.Timestamp \n",
    "test = test.resample('D').mean()\n",
    "\n",
    "\n"
   ]
  },
  {
   "cell_type": "code",
   "execution_count": 25,
   "metadata": {},
   "outputs": [
    {
     "data": {
      "text/html": [
       "<div>\n",
       "<style scoped>\n",
       "    .dataframe tbody tr th:only-of-type {\n",
       "        vertical-align: middle;\n",
       "    }\n",
       "\n",
       "    .dataframe tbody tr th {\n",
       "        vertical-align: top;\n",
       "    }\n",
       "\n",
       "    .dataframe thead th {\n",
       "        text-align: right;\n",
       "    }\n",
       "</style>\n",
       "<table border=\"1\" class=\"dataframe\">\n",
       "  <thead>\n",
       "    <tr style=\"text-align: right;\">\n",
       "      <th></th>\n",
       "      <th>Open</th>\n",
       "      <th>High</th>\n",
       "      <th>Low</th>\n",
       "      <th>Close</th>\n",
       "      <th>Volume_(BTC)</th>\n",
       "      <th>Volume_(Currency)</th>\n",
       "      <th>Weighted_Price</th>\n",
       "    </tr>\n",
       "    <tr>\n",
       "      <th>Timestamp</th>\n",
       "      <th></th>\n",
       "      <th></th>\n",
       "      <th></th>\n",
       "      <th></th>\n",
       "      <th></th>\n",
       "      <th></th>\n",
       "      <th></th>\n",
       "    </tr>\n",
       "  </thead>\n",
       "  <tbody>\n",
       "    <tr>\n",
       "      <th>2016-09-28</th>\n",
       "      <td>603.745625</td>\n",
       "      <td>603.758750</td>\n",
       "      <td>603.565625</td>\n",
       "      <td>603.755625</td>\n",
       "      <td>0.548430</td>\n",
       "      <td>330.769106</td>\n",
       "      <td>603.612671</td>\n",
       "    </tr>\n",
       "    <tr>\n",
       "      <th>2016-09-29</th>\n",
       "      <td>603.928257</td>\n",
       "      <td>604.016049</td>\n",
       "      <td>603.805285</td>\n",
       "      <td>603.917486</td>\n",
       "      <td>2.856273</td>\n",
       "      <td>1724.681035</td>\n",
       "      <td>603.911641</td>\n",
       "    </tr>\n",
       "    <tr>\n",
       "      <th>2016-09-30</th>\n",
       "      <td>605.035618</td>\n",
       "      <td>605.128535</td>\n",
       "      <td>604.915674</td>\n",
       "      <td>605.013181</td>\n",
       "      <td>2.601640</td>\n",
       "      <td>1573.906429</td>\n",
       "      <td>605.017242</td>\n",
       "    </tr>\n",
       "    <tr>\n",
       "      <th>2016-10-01</th>\n",
       "      <td>611.691229</td>\n",
       "      <td>611.753257</td>\n",
       "      <td>611.641500</td>\n",
       "      <td>611.703965</td>\n",
       "      <td>1.979285</td>\n",
       "      <td>1209.742195</td>\n",
       "      <td>611.695313</td>\n",
       "    </tr>\n",
       "    <tr>\n",
       "      <th>2016-10-02</th>\n",
       "      <td>609.314528</td>\n",
       "      <td>609.422757</td>\n",
       "      <td>609.196382</td>\n",
       "      <td>609.317750</td>\n",
       "      <td>1.497508</td>\n",
       "      <td>911.680615</td>\n",
       "      <td>609.294611</td>\n",
       "    </tr>\n",
       "  </tbody>\n",
       "</table>\n",
       "</div>"
      ],
      "text/plain": [
       "                  Open        High         Low       Close  Volume_(BTC)  \\\n",
       "Timestamp                                                                  \n",
       "2016-09-28  603.745625  603.758750  603.565625  603.755625      0.548430   \n",
       "2016-09-29  603.928257  604.016049  603.805285  603.917486      2.856273   \n",
       "2016-09-30  605.035618  605.128535  604.915674  605.013181      2.601640   \n",
       "2016-10-01  611.691229  611.753257  611.641500  611.703965      1.979285   \n",
       "2016-10-02  609.314528  609.422757  609.196382  609.317750      1.497508   \n",
       "\n",
       "            Volume_(Currency)  Weighted_Price  \n",
       "Timestamp                                      \n",
       "2016-09-28         330.769106      603.612671  \n",
       "2016-09-29        1724.681035      603.911641  \n",
       "2016-09-30        1573.906429      605.017242  \n",
       "2016-10-01        1209.742195      611.695313  \n",
       "2016-10-02         911.680615      609.294611  "
      ]
     },
     "execution_count": 25,
     "metadata": {},
     "output_type": "execute_result"
    }
   ],
   "source": [
    "train.head()"
   ]
  },
  {
   "cell_type": "code",
   "execution_count": 9,
   "metadata": {},
   "outputs": [
    {
     "data": {
      "text/html": [
       "<div>\n",
       "<style scoped>\n",
       "    .dataframe tbody tr th:only-of-type {\n",
       "        vertical-align: middle;\n",
       "    }\n",
       "\n",
       "    .dataframe tbody tr th {\n",
       "        vertical-align: top;\n",
       "    }\n",
       "\n",
       "    .dataframe thead th {\n",
       "        text-align: right;\n",
       "    }\n",
       "</style>\n",
       "<table border=\"1\" class=\"dataframe\">\n",
       "  <thead>\n",
       "    <tr style=\"text-align: right;\">\n",
       "      <th></th>\n",
       "      <th>Open</th>\n",
       "      <th>High</th>\n",
       "      <th>Low</th>\n",
       "      <th>Close</th>\n",
       "      <th>Volume_(BTC)</th>\n",
       "      <th>Volume_(Currency)</th>\n",
       "      <th>Weighted_Price</th>\n",
       "    </tr>\n",
       "    <tr>\n",
       "      <th>Timestamp</th>\n",
       "      <th></th>\n",
       "      <th></th>\n",
       "      <th></th>\n",
       "      <th></th>\n",
       "      <th></th>\n",
       "      <th></th>\n",
       "      <th></th>\n",
       "    </tr>\n",
       "  </thead>\n",
       "  <tbody>\n",
       "    <tr>\n",
       "      <th>2017-09-30</th>\n",
       "      <td>4270.216074</td>\n",
       "      <td>4271.955490</td>\n",
       "      <td>4268.330188</td>\n",
       "      <td>4270.286637</td>\n",
       "      <td>5.323201</td>\n",
       "      <td>22772.951624</td>\n",
       "      <td>4270.099044</td>\n",
       "    </tr>\n",
       "    <tr>\n",
       "      <th>2017-10-01</th>\n",
       "      <td>4290.879264</td>\n",
       "      <td>4292.513625</td>\n",
       "      <td>4288.988646</td>\n",
       "      <td>4290.900590</td>\n",
       "      <td>5.205305</td>\n",
       "      <td>22284.395236</td>\n",
       "      <td>4290.509618</td>\n",
       "    </tr>\n",
       "    <tr>\n",
       "      <th>2017-10-02</th>\n",
       "      <td>4395.595528</td>\n",
       "      <td>4397.706764</td>\n",
       "      <td>4392.807063</td>\n",
       "      <td>4395.493111</td>\n",
       "      <td>5.838207</td>\n",
       "      <td>25652.542492</td>\n",
       "      <td>4395.341097</td>\n",
       "    </tr>\n",
       "    <tr>\n",
       "      <th>2017-10-03</th>\n",
       "      <td>4311.938333</td>\n",
       "      <td>4314.145292</td>\n",
       "      <td>4309.140639</td>\n",
       "      <td>4311.992896</td>\n",
       "      <td>8.717987</td>\n",
       "      <td>37447.731893</td>\n",
       "      <td>4311.533988</td>\n",
       "    </tr>\n",
       "    <tr>\n",
       "      <th>2017-10-04</th>\n",
       "      <td>4249.836465</td>\n",
       "      <td>4251.627278</td>\n",
       "      <td>4247.174708</td>\n",
       "      <td>4249.643597</td>\n",
       "      <td>6.008724</td>\n",
       "      <td>25445.996763</td>\n",
       "      <td>4249.380869</td>\n",
       "    </tr>\n",
       "  </tbody>\n",
       "</table>\n",
       "</div>"
      ],
      "text/plain": [
       "                   Open         High          Low        Close  Volume_(BTC)  \\\n",
       "Timestamp                                                                      \n",
       "2017-09-30  4270.216074  4271.955490  4268.330188  4270.286637      5.323201   \n",
       "2017-10-01  4290.879264  4292.513625  4288.988646  4290.900590      5.205305   \n",
       "2017-10-02  4395.595528  4397.706764  4392.807063  4395.493111      5.838207   \n",
       "2017-10-03  4311.938333  4314.145292  4309.140639  4311.992896      8.717987   \n",
       "2017-10-04  4249.836465  4251.627278  4247.174708  4249.643597      6.008724   \n",
       "\n",
       "            Volume_(Currency)  Weighted_Price  \n",
       "Timestamp                                      \n",
       "2017-09-30       22772.951624     4270.099044  \n",
       "2017-10-01       22284.395236     4290.509618  \n",
       "2017-10-02       25652.542492     4395.341097  \n",
       "2017-10-03       37447.731893     4311.533988  \n",
       "2017-10-04       25445.996763     4249.380869  "
      ]
     },
     "execution_count": 9,
     "metadata": {},
     "output_type": "execute_result"
    }
   ],
   "source": [
    "test.head()"
   ]
  },
  {
   "cell_type": "code",
   "execution_count": 10,
   "metadata": {},
   "outputs": [
    {
     "name": "stdout",
     "output_type": "stream",
     "text": [
      "(367, 7)\n",
      "(101, 7)\n"
     ]
    }
   ],
   "source": [
    "print(train.shape)\n",
    "print(test.shape)"
   ]
  },
  {
   "cell_type": "code",
   "execution_count": 11,
   "metadata": {},
   "outputs": [
    {
     "data": {
      "text/html": [
       "<div>\n",
       "<style scoped>\n",
       "    .dataframe tbody tr th:only-of-type {\n",
       "        vertical-align: middle;\n",
       "    }\n",
       "\n",
       "    .dataframe tbody tr th {\n",
       "        vertical-align: top;\n",
       "    }\n",
       "\n",
       "    .dataframe thead th {\n",
       "        text-align: right;\n",
       "    }\n",
       "</style>\n",
       "<table border=\"1\" class=\"dataframe\">\n",
       "  <thead>\n",
       "    <tr style=\"text-align: right;\">\n",
       "      <th></th>\n",
       "      <th>Open</th>\n",
       "      <th>High</th>\n",
       "      <th>Low</th>\n",
       "      <th>Close</th>\n",
       "      <th>Volume_(BTC)</th>\n",
       "      <th>Volume_(Currency)</th>\n",
       "      <th>Weighted_Price</th>\n",
       "    </tr>\n",
       "  </thead>\n",
       "  <tbody>\n",
       "    <tr>\n",
       "      <th>count</th>\n",
       "      <td>367.000000</td>\n",
       "      <td>367.000000</td>\n",
       "      <td>367.000000</td>\n",
       "      <td>367.000000</td>\n",
       "      <td>367.000000</td>\n",
       "      <td>367.000000</td>\n",
       "      <td>367.000000</td>\n",
       "    </tr>\n",
       "    <tr>\n",
       "      <th>mean</th>\n",
       "      <td>1768.433039</td>\n",
       "      <td>1769.630966</td>\n",
       "      <td>1767.060537</td>\n",
       "      <td>1768.416072</td>\n",
       "      <td>7.505846</td>\n",
       "      <td>15695.012743</td>\n",
       "      <td>1768.322545</td>\n",
       "    </tr>\n",
       "    <tr>\n",
       "      <th>std</th>\n",
       "      <td>1178.022648</td>\n",
       "      <td>1179.164353</td>\n",
       "      <td>1176.595672</td>\n",
       "      <td>1177.956286</td>\n",
       "      <td>5.016457</td>\n",
       "      <td>17419.789097</td>\n",
       "      <td>1177.865228</td>\n",
       "    </tr>\n",
       "    <tr>\n",
       "      <th>min</th>\n",
       "      <td>603.745625</td>\n",
       "      <td>603.758750</td>\n",
       "      <td>603.565625</td>\n",
       "      <td>603.755625</td>\n",
       "      <td>0.548430</td>\n",
       "      <td>330.769106</td>\n",
       "      <td>603.612671</td>\n",
       "    </tr>\n",
       "    <tr>\n",
       "      <th>25%</th>\n",
       "      <td>863.116208</td>\n",
       "      <td>863.799983</td>\n",
       "      <td>862.605733</td>\n",
       "      <td>863.164142</td>\n",
       "      <td>4.081938</td>\n",
       "      <td>3769.836589</td>\n",
       "      <td>863.198405</td>\n",
       "    </tr>\n",
       "    <tr>\n",
       "      <th>50%</th>\n",
       "      <td>1192.429083</td>\n",
       "      <td>1192.846611</td>\n",
       "      <td>1192.103542</td>\n",
       "      <td>1192.545056</td>\n",
       "      <td>6.357870</td>\n",
       "      <td>7669.417184</td>\n",
       "      <td>1192.500536</td>\n",
       "    </tr>\n",
       "    <tr>\n",
       "      <th>75%</th>\n",
       "      <td>2557.112472</td>\n",
       "      <td>2560.104007</td>\n",
       "      <td>2555.293427</td>\n",
       "      <td>2557.028503</td>\n",
       "      <td>9.348044</td>\n",
       "      <td>21981.409659</td>\n",
       "      <td>2557.067577</td>\n",
       "    </tr>\n",
       "    <tr>\n",
       "      <th>max</th>\n",
       "      <td>4801.826097</td>\n",
       "      <td>4804.446132</td>\n",
       "      <td>4797.498319</td>\n",
       "      <td>4801.706236</td>\n",
       "      <td>41.870791</td>\n",
       "      <td>141124.036343</td>\n",
       "      <td>4801.471753</td>\n",
       "    </tr>\n",
       "  </tbody>\n",
       "</table>\n",
       "</div>"
      ],
      "text/plain": [
       "              Open         High          Low        Close  Volume_(BTC)  \\\n",
       "count   367.000000   367.000000   367.000000   367.000000    367.000000   \n",
       "mean   1768.433039  1769.630966  1767.060537  1768.416072      7.505846   \n",
       "std    1178.022648  1179.164353  1176.595672  1177.956286      5.016457   \n",
       "min     603.745625   603.758750   603.565625   603.755625      0.548430   \n",
       "25%     863.116208   863.799983   862.605733   863.164142      4.081938   \n",
       "50%    1192.429083  1192.846611  1192.103542  1192.545056      6.357870   \n",
       "75%    2557.112472  2560.104007  2555.293427  2557.028503      9.348044   \n",
       "max    4801.826097  4804.446132  4797.498319  4801.706236     41.870791   \n",
       "\n",
       "       Volume_(Currency)  Weighted_Price  \n",
       "count         367.000000      367.000000  \n",
       "mean        15695.012743     1768.322545  \n",
       "std         17419.789097     1177.865228  \n",
       "min           330.769106      603.612671  \n",
       "25%          3769.836589      863.198405  \n",
       "50%          7669.417184     1192.500536  \n",
       "75%         21981.409659     2557.067577  \n",
       "max        141124.036343     4801.471753  "
      ]
     },
     "execution_count": 11,
     "metadata": {},
     "output_type": "execute_result"
    }
   ],
   "source": [
    "train.describe() "
   ]
  },
  {
   "cell_type": "code",
   "execution_count": 12,
   "metadata": {},
   "outputs": [
    {
     "data": {
      "text/plain": [
       "Open                 False\n",
       "High                 False\n",
       "Low                  False\n",
       "Close                False\n",
       "Volume_(BTC)         False\n",
       "Volume_(Currency)    False\n",
       "Weighted_Price       False\n",
       "dtype: bool"
      ]
     },
     "execution_count": 12,
     "metadata": {},
     "output_type": "execute_result"
    }
   ],
   "source": [
    "train.isnull().any()"
   ]
  },
  {
   "cell_type": "code",
   "execution_count": 13,
   "metadata": {},
   "outputs": [
    {
     "data": {
      "image/png": "[encoded data removed]",
      "text/plain": [
       "<matplotlib.figure.Figure at 0x24d2423ff28>"
      ]
     },
     "metadata": {},
     "output_type": "display_data"
    }
   ],
   "source": [
    "y_hat_avg = test.copy()\n",
    "y_hat_avg['moving_avg_forecast'] = train['Weighted_Price'].rolling(60).mean().iloc[-1] # SELECTING DATA FROM ROW NUMBERS\n",
    "plt.figure(figsize=(16,8))\n",
    "plt.plot(train['Weighted_Price'], label='Train')\n",
    "plt.plot(test['Weighted_Price'], label='Test')\n",
    "plt.plot(y_hat_avg['moving_avg_forecast'], label='Moving Average Forecast')\n",
    "plt.legend(loc='best')\n",
    "plt.show()"
   ]
  },
  {
   "cell_type": "code",
   "execution_count": 14,
   "metadata": {},
   "outputs": [
    {
     "data": {
      "text/plain": [
       "<matplotlib.legend.Legend at 0x24d22803828>"
      ]
     },
     "execution_count": 14,
     "metadata": {},
     "output_type": "execute_result"
    },
    {
     "data": {
      "image/png": "[encoded data removed]",
      "text/plain": [
       "<matplotlib.figure.Figure at 0x24d22803470>"
      ]
     },
     "metadata": {},
     "output_type": "display_data"
    }
   ],
   "source": [
    "#Resampling at lower frequency\n",
    "#plot the average of price in the previous year and price at the end of the year\n",
    "weighted_Price = train['Weighted_Price']\n",
    "#print(weighted_Price)\n",
    "weighted_Price.plot(alpha=0.5, style='-')\n",
    "weighted_Price.resample('BA').mean().plot(style='*') # avg of previous year\n",
    "weighted_Price.asfreq('BA').plot(style='--') # value at the end of the year\n",
    "plt.yscale('log')\n",
    "plt.title(\"logarithmic scale\")\n",
    "plt.legend(['Weighted_Price', 'resample', 'asfreq'], \n",
    "           loc='upper left')\n",
    "# 'resample'-- average of the previous year\n",
    "# 'asfreq' -- value at the end of the year"
   ]
  },
  {
   "cell_type": "code",
   "execution_count": 17,
   "metadata": {},
   "outputs": [
    {
     "name": "stderr",
     "output_type": "stream",
     "text": [
      "C:\\Users\\User\\Anaconda3\\lib\\site-packages\\ipykernel_launcher.py:1: FutureWarning: pd.ewm_mean is deprecated for Series and will be removed in a future version, replace with \n",
      "\tSeries.ewm(com=200,min_periods=0,adjust=True,ignore_na=False).mean()\n",
      "  \"\"\"Entry point for launching an IPython kernel.\n"
     ]
    },
    {
     "data": {
      "image/png": "[encoded data removed]",
      "text/plain": [
       "<matplotlib.figure.Figure at 0x24d22fde438>"
      ]
     },
     "metadata": {},
     "output_type": "display_data"
    }
   ],
   "source": [
    "#The Exponentially Weighted Moving Average (EWMA) is a statistic for monitoring the process that averages the data in a way \n",
    "#that gives less and less weight to data\n",
    "rolling = pd.ewma(weighted_Price, com=200) # center of mass : \n",
    "\n",
    "data = pd.DataFrame({'input': weighted_Price, \n",
    "                     '200days rolling_mean': rolling.mean(), \n",
    "                     '200days rolling_std': rolling.std()}) # moving avg : smoothning the data due to fluationi\n",
    "\n",
    "ax = data.plot(style=['-', '--', ':'])\n",
    "ax.set_yscale('log')\n",
    "ax.set_title(\"EMA on log scale\")\n",
    "ax.lines[0].set_alpha(0.3)"
   ]
  },
  {
   "cell_type": "code",
   "execution_count": 18,
   "metadata": {},
   "outputs": [
    {
     "name": "stdout",
     "output_type": "stream",
     "text": [
      "[ 4270.09904362  4290.50961825  4395.34109711  4311.53398815\n",
      "  4249.38086932  4255.14117063  4359.02571159  4351.11523003\n",
      "  4495.68274331  4643.25831011  4811.40362944  4786.87981491\n",
      "  5114.22674297  5617.72855388  5665.83325869  5609.70521025\n",
      "  5673.30299676  5625.28140199  5401.84142245  5653.87709158\n",
      "  5788.39517381  6072.98628534  5909.35466505  5868.55444039\n",
      "  5658.96718301  5547.13609711  5826.22649318  5822.06714383\n",
      "  5749.52172552  5883.18983378  6122.31554456  6239.75223108\n",
      "  6501.9271264   6951.55011034  7239.98579691  7257.38299011\n",
      "  7457.70186427  7227.18831946  7102.41136848  7386.435501\n",
      "  7244.03997836  6961.08064607  6555.82914952  6113.8012755\n",
      "  6346.71495066  6590.1457225   7045.89127116  7459.01140241\n",
      "  7826.66995447  7696.52895975  7825.42031561  8089.82798336\n",
      "  8157.12061593  8194.20787954  8175.02189417  8167.54723751\n",
      "  8428.59055039  8971.59499367  9555.69705504  9832.17904349\n",
      " 10402.34334151  9887.5433868  10193.94721008 10937.45981194\n",
      " 11290.71944172 11345.14458862 11655.13542927 12577.9303519\n",
      " 14775.0590484  15429.64789883 14804.00010606 14132.60171064\n",
      " 16200.09235479 16729.84828177 16539.76072436 16340.21688416\n",
      " 17364.19043025 18173.93275387 19186.16961026 18716.81145948\n",
      " 18318.28161549 16831.69035647 16219.34143154 13759.47920588\n",
      " 14765.47055603 13652.62840629 13964.73595414 15242.6077966\n",
      " 15579.67456149 14246.32680928 14533.09224733 13207.97774421\n",
      " 13337.51323221 13424.16341043 13877.57991055 14962.37907754\n",
      " 14816.62546784 15790.44614532 16665.26880774 16516.38596171\n",
      " 16122.40664   ]\n"
     ]
    }
   ],
   "source": [
    "#autoregression: \n",
    "from statsmodels.tsa.ar_model import AR\n",
    "from sklearn.metrics import mean_squared_error\n",
    "\n",
    "test = test['Weighted_Price'].values\n",
    "\n",
    "print(test)"
   ]
  },
  {
   "cell_type": "code",
   "execution_count": 139,
   "metadata": {},
   "outputs": [
    {
     "name": "stdout",
     "output_type": "stream",
     "text": [
      "Lag: 17\n",
      "Coefficients: [ 1.40579501e+00  1.28416421e+00 -3.59431363e-01  1.55264852e-03\n",
      "  1.15429062e-01 -9.35948809e-02  2.33268318e-02  1.60494782e-01\n",
      " -1.75698848e-01  2.56073311e-02  6.66696261e-02 -6.24868195e-02\n",
      "  5.80841061e-02 -5.11266516e-02  1.24065400e-03  2.84771150e-03\n",
      "  9.89608734e-03 -1.73333988e-03]\n"
     ]
    }
   ],
   "source": [
    "#train and fit autoregression\n",
    "model = AR(train_pr)\n",
    "model_fit = model.fit()\n",
    "\n",
    "print(\"Lag: %s\" % model_fit.k_ar)\n",
    "print(\"Coefficients: %s\" % model_fit.params)\n",
    "\n",
    "pred = model_fit.predict(start=len(train), end=len(train_pr)+len(test)-1, dynamic=False)\n",
    "#mse = mean_squared_error(test, pred)\n",
    "#print(\"Test MSE {0:.3f}\".format(mse))"
   ]
  },
  {
   "cell_type": "code",
   "execution_count": 97,
   "metadata": {},
   "outputs": [
    {
     "data": {
      "text/plain": [
       "<matplotlib.legend.Legend at 0x26012b409b0>"
      ]
     },
     "execution_count": 97,
     "metadata": {},
     "output_type": "execute_result"
    },
    {
     "data": {
      "image/png": "[encoded data removed]",
      "text/plain": [
       "<matplotlib.figure.Figure at 0x26012ae9438>"
      ]
     },
     "metadata": {},
     "output_type": "display_data"
    }
   ],
   "source": [
    "plt.plot(test, label='true value')\n",
    "plt.plot(pred, color='red', label='prediction')\n",
    "plt.title(\"Autoregressive model\")\n",
    "plt.legend()"
   ]
  },
  {
   "cell_type": "code",
   "execution_count": null,
   "metadata": {},
   "outputs": [],
   "source": []
  },
  {
   "cell_type": "code",
   "execution_count": null,
   "metadata": {},
   "outputs": [],
   "source": []
  }
 ],
 "metadata": {
  "kernelspec": {
   "display_name": "Python 3",
   "language": "python",
   "name": "python3"
  },
  "language_info": {
   "codemirror_mode": {
    "name": "ipython",
    "version": 3
   },
   "file_extension": ".py",
   "mimetype": "text/x-python",
   "name": "python",
   "nbconvert_exporter": "python",
   "pygments_lexer": "ipython3",
   "version": "3.6.4"
  }
 },
 "nbformat": 4,
 "nbformat_minor": 2
}
